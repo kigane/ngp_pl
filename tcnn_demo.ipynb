{
 "cells": [
  {
   "cell_type": "code",
   "execution_count": 16,
   "metadata": {},
   "outputs": [],
   "source": [
    "import torch\n",
    "from torch import nn\n",
    "import tinycudann as tcnn\n",
    "import torch.nn.functional as F\n",
    "import vren\n",
    "from einops import rearrange\n",
    "import numpy as np"
   ]
  },
  {
   "cell_type": "code",
   "execution_count": 2,
   "metadata": {},
   "outputs": [],
   "source": [
    "L = 4\n",
    "F = 2\n",
    "log2_T = 10\n",
    "N_min = 4\n",
    "b = 1.25\n",
    "rgb_act = \"Sigmoid\"\n",
    "\n",
    "xyz_encoder = \\\n",
    "    tcnn.NetworkWithInputEncoding(\n",
    "        n_input_dims=3, n_output_dims=16,\n",
    "        encoding_config={\n",
    "            \"otype\": \"Grid\",\n",
    "            \"type\": \"Hash\",\n",
    "            \"n_levels\": L,\n",
    "            \"n_features_per_level\": F,\n",
    "            \"log2_hashmap_size\": log2_T,\n",
    "            \"base_resolution\": N_min,\n",
    "            \"per_level_scale\": b,\n",
    "            \"interpolation\": \"Linear\"\n",
    "        },\n",
    "        network_config={\n",
    "            \"otype\": \"FullyFusedMLP\",\n",
    "            \"activation\": \"ReLU\",\n",
    "            \"output_activation\": \"None\",\n",
    "            \"n_neurons\": 64,\n",
    "            \"n_hidden_layers\": 1,\n",
    "        }\n",
    "    )\n",
    "\n",
    "dir_encoder = \\\n",
    "    tcnn.Encoding(\n",
    "        n_input_dims=3,\n",
    "        encoding_config={\n",
    "            \"otype\": \"SphericalHarmonics\",\n",
    "            \"degree\": 4,\n",
    "        },\n",
    "    )\n",
    "\n",
    "rgb_net = \\\n",
    "    tcnn.Network(\n",
    "        n_input_dims=32, n_output_dims=3,\n",
    "        network_config={\n",
    "            \"otype\": \"FullyFusedMLP\",\n",
    "            \"activation\": \"ReLU\",\n",
    "            \"output_activation\": rgb_act,\n",
    "            \"n_neurons\": 64,\n",
    "            \"n_hidden_layers\": 2,\n",
    "        }\n",
    "    )"
   ]
  },
  {
   "cell_type": "code",
   "execution_count": 5,
   "metadata": {},
   "outputs": [
    {
     "data": {
      "text/plain": [
       "torch.Size([32, 16])"
      ]
     },
     "execution_count": 5,
     "metadata": {},
     "output_type": "execute_result"
    }
   ],
   "source": [
    "x = torch.randn((32, 3)).cuda()\n",
    "gamma_x = xyz_encoder(x)\n",
    "gamma_x.shape"
   ]
  },
  {
   "cell_type": "code",
   "execution_count": 17,
   "metadata": {},
   "outputs": [
    {
     "data": {
      "text/plain": [
       "torch.Size([32, 16])"
      ]
     },
     "execution_count": 17,
     "metadata": {},
     "output_type": "execute_result"
    }
   ],
   "source": [
    "d = torch.randn((32, 3)).cuda()\n",
    "d = F.normalize(d, dim=1)\n",
    "gamma_d = dir_encoder(d)\n",
    "gamma_d.shape"
   ]
  },
  {
   "cell_type": "code",
   "execution_count": 19,
   "metadata": {},
   "outputs": [
    {
     "data": {
      "text/plain": [
       "tensor([  0.2820,   1.2305,  -0.4724,   1.1240,   6.3320,  -2.6621,   0.5693,\n",
       "         -2.4297,  -0.5767,  14.1641, -16.2031,   4.2344,  -0.6050,   3.8652,\n",
       "          1.4756, -18.6562], device='cuda:0', dtype=torch.float16,\n",
       "       grad_fn=<SelectBackward0>)"
      ]
     },
     "execution_count": 19,
     "metadata": {},
     "output_type": "execute_result"
    }
   ],
   "source": [
    "gamma_d[0]"
   ]
  },
  {
   "cell_type": "code",
   "execution_count": 8,
   "metadata": {},
   "outputs": [],
   "source": [
    "rgb = rgb_net(torch.cat([gamma_x, gamma_d], 1))"
   ]
  },
  {
   "cell_type": "code",
   "execution_count": 9,
   "metadata": {},
   "outputs": [
    {
     "data": {
      "text/plain": [
       "torch.Size([32, 3])"
      ]
     },
     "execution_count": 9,
     "metadata": {},
     "output_type": "execute_result"
    }
   ],
   "source": [
    "rgb.shape"
   ]
  }
 ],
 "metadata": {
  "kernelspec": {
   "display_name": "Python 3.8.0 ('nerf')",
   "language": "python",
   "name": "python3"
  },
  "language_info": {
   "codemirror_mode": {
    "name": "ipython",
    "version": 3
   },
   "file_extension": ".py",
   "mimetype": "text/x-python",
   "name": "python",
   "nbconvert_exporter": "python",
   "pygments_lexer": "ipython3",
   "version": "3.8.0"
  },
  "orig_nbformat": 4,
  "vscode": {
   "interpreter": {
    "hash": "61a8a868adb5b023419365bb7137c0025ea8676038fd75bb2016f61b2098a3d3"
   }
  }
 },
 "nbformat": 4,
 "nbformat_minor": 2
}

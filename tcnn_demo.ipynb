{
 "cells": [
  {
   "cell_type": "code",
   "execution_count": 1,
   "metadata": {},
   "outputs": [
    {
     "name": "stderr",
     "output_type": "stream",
     "text": [
      "/home/leonhardt/anaconda3/envs/nerf/lib/python3.8/site-packages/tinycudann-1.7-py3.8-linux-x86_64.egg/tinycudann/modules.py:52: UserWarning: tinycudann was built for lower compute capability (86) than the system's (89). Performance may be suboptimal.\n",
      "  warnings.warn(f\"tinycudann was built for lower compute capability ({cc}) than the system's ({system_compute_capability}). Performance may be suboptimal.\")\n"
     ]
    }
   ],
   "source": [
    "import torch\n",
    "from torch import nn\n",
    "import tinycudann as tcnn\n",
    "import torch.nn.functional as F\n",
    "import vren\n",
    "from einops import rearrange\n",
    "import numpy as np"
   ]
  },
  {
   "cell_type": "code",
   "execution_count": 2,
   "metadata": {},
   "outputs": [],
   "source": [
    "L = 4\n",
    "F_ = 2\n",
    "log2_T = 10\n",
    "N_min = 4\n",
    "b = 1.25\n",
    "rgb_act = \"Sigmoid\"\n",
    "\n",
    "xyz_encoder = \\\n",
    "    tcnn.NetworkWithInputEncoding(\n",
    "        n_input_dims=3, n_output_dims=16,\n",
    "        encoding_config={\n",
    "            \"otype\": \"Grid\",\n",
    "            \"type\": \"Hash\",\n",
    "            \"n_levels\": L,\n",
    "            \"n_features_per_level\": F_,\n",
    "            \"log2_hashmap_size\": log2_T,\n",
    "            \"base_resolution\": N_min,\n",
    "            \"per_level_scale\": b,\n",
    "            \"interpolation\": \"Linear\"\n",
    "        },\n",
    "        network_config={\n",
    "            \"otype\": \"FullyFusedMLP\",\n",
    "            \"activation\": \"ReLU\",\n",
    "            \"output_activation\": \"None\",\n",
    "            \"n_neurons\": 64,\n",
    "            \"n_hidden_layers\": 1,\n",
    "        }\n",
    "    )\n",
    "\n",
    "dir_encoder = \\\n",
    "    tcnn.Encoding(\n",
    "        n_input_dims=3,\n",
    "        encoding_config={\n",
    "            \"otype\": \"SphericalHarmonics\",\n",
    "            \"degree\": 4,\n",
    "        },\n",
    "    )\n",
    "\n",
    "rgb_net = \\\n",
    "    tcnn.Network(\n",
    "        n_input_dims=32, n_output_dims=3,\n",
    "        network_config={\n",
    "            \"otype\": \"FullyFusedMLP\",\n",
    "            \"activation\": \"ReLU\",\n",
    "            \"output_activation\": rgb_act,\n",
    "            \"n_neurons\": 64,\n",
    "            \"n_hidden_layers\": 2,\n",
    "        }\n",
    "    )"
   ]
  },
  {
   "cell_type": "code",
   "execution_count": 3,
   "metadata": {},
   "outputs": [],
   "source": [
    "encoding = tcnn.Encoding(3, encoding_config={\n",
    "            \"otype\": \"Frequency\",\n",
    "            \"n_frequencies\": 10,\n",
    "        })\n",
    "# encoding = tcnn.Encoding(3, encoding_config={\n",
    "#             \"otype\": \"Grid\",\n",
    "#             \"type\": \"Hash\",\n",
    "#             \"n_levels\": L,\n",
    "#             \"n_features_per_level\": F_,\n",
    "#             \"log2_hashmap_size\": log2_T,\n",
    "#             \"base_resolution\": N_min,\n",
    "#             \"per_level_scale\": b,\n",
    "#             \"interpolation\": \"Linear\"\n",
    "#         })\n",
    "network = tcnn.Network(encoding.n_output_dims, 16, network_config={\n",
    "            \"otype\": \"FullyFusedMLP\",\n",
    "            \"activation\": \"ReLU\",\n",
    "            \"output_activation\": \"None\",\n",
    "            \"n_neurons\": 64,\n",
    "            \"n_hidden_layers\": 1,\n",
    "        })\n",
    "model = torch.nn.Sequential(encoding, network)"
   ]
  },
  {
   "cell_type": "code",
   "execution_count": 4,
   "metadata": {},
   "outputs": [
    {
     "data": {
      "text/plain": [
       "tensor([[ 0.0000e+00, -1.0000e+00, -1.7881e-07,  1.0000e+00, -5.3644e-07,\n",
       "          1.0000e+00, -1.3113e-06,  1.0000e+00, -2.8014e-06,  1.0000e+00,\n",
       "         -5.7817e-06,  1.0000e+00, -1.1802e-05,  1.0000e+00, -2.3782e-05,\n",
       "          1.0000e+00, -4.7743e-05,  1.0000e+00, -9.5665e-05,  1.0000e+00,\n",
       "         -1.7881e-07,  1.0000e+00, -5.3644e-07,  1.0000e+00, -1.3113e-06,\n",
       "          1.0000e+00, -2.8014e-06,  1.0000e+00, -5.7817e-06,  1.0000e+00,\n",
       "         -1.1802e-05,  1.0000e+00, -2.3782e-05,  1.0000e+00, -4.7743e-05,\n",
       "          1.0000e+00, -9.5665e-05,  1.0000e+00, -1.9157e-04,  1.0000e+00,\n",
       "          5.3644e-07, -1.0000e+00, -1.3113e-06,  1.0000e+00, -2.8014e-06,\n",
       "          1.0000e+00, -5.7817e-06,  1.0000e+00, -1.1802e-05,  1.0000e+00,\n",
       "         -2.3782e-05,  1.0000e+00, -4.7743e-05,  1.0000e+00, -9.5665e-05,\n",
       "          1.0000e+00, -1.9157e-04,  1.0000e+00, -3.8338e-04,  1.0000e+00]],\n",
       "       device='cuda:0', dtype=torch.float16, grad_fn=<SliceBackward0>)"
      ]
     },
     "execution_count": 4,
     "metadata": {},
     "output_type": "execute_result"
    }
   ],
   "source": [
    "encoding(torch.tensor([[1.0, 2.0, 3.0]]).cuda())"
   ]
  },
  {
   "cell_type": "code",
   "execution_count": 5,
   "metadata": {},
   "outputs": [
    {
     "data": {
      "text/plain": [
       "60"
      ]
     },
     "execution_count": 5,
     "metadata": {},
     "output_type": "execute_result"
    }
   ],
   "source": [
    "encoding.n_output_dims"
   ]
  },
  {
   "cell_type": "code",
   "execution_count": 6,
   "metadata": {},
   "outputs": [
    {
     "data": {
      "text/plain": [
       "torch.Size([32, 16])"
      ]
     },
     "execution_count": 6,
     "metadata": {},
     "output_type": "execute_result"
    }
   ],
   "source": [
    "x = torch.randn((32, 3)).cuda()\n",
    "gamma_x = xyz_encoder(x)\n",
    "gamma_x.shape"
   ]
  },
  {
   "cell_type": "code",
   "execution_count": 7,
   "metadata": {},
   "outputs": [
    {
     "data": {
      "text/plain": [
       "torch.Size([32, 16])"
      ]
     },
     "execution_count": 7,
     "metadata": {},
     "output_type": "execute_result"
    }
   ],
   "source": [
    "d = torch.randn((32, 3)).cuda()\n",
    "d_normed = F.normalize(d)\n",
    "gamma_d = dir_encoder(d_normed)\n",
    "gamma_d.shape"
   ]
  },
  {
   "cell_type": "code",
   "execution_count": 8,
   "metadata": {},
   "outputs": [
    {
     "data": {
      "text/plain": [
       "tensor([  0.2820,   0.7134,  -0.9604,   1.3145,   4.2891,  -3.1348,   3.3418,\n",
       "         -5.7773,   2.7891,  16.8594, -22.3125,  12.2266, -11.9844,  22.5312,\n",
       "        -14.5078,   1.3379], device='cuda:0', dtype=torch.float16,\n",
       "       grad_fn=<SelectBackward0>)"
      ]
     },
     "execution_count": 8,
     "metadata": {},
     "output_type": "execute_result"
    }
   ],
   "source": [
    "gamma_d[0]"
   ]
  },
  {
   "cell_type": "code",
   "execution_count": 9,
   "metadata": {},
   "outputs": [],
   "source": [
    "rgb = rgb_net(torch.cat([gamma_x, gamma_d], 1))"
   ]
  },
  {
   "cell_type": "code",
   "execution_count": 10,
   "metadata": {},
   "outputs": [
    {
     "data": {
      "text/plain": [
       "torch.Size([32, 3])"
      ]
     },
     "execution_count": 10,
     "metadata": {},
     "output_type": "execute_result"
    }
   ],
   "source": [
    "rgb.shape"
   ]
  },
  {
   "cell_type": "code",
   "execution_count": 11,
   "metadata": {},
   "outputs": [],
   "source": [
    "torch.save(xyz_encoder.state_dict(), \"xyz_sd.pth\")\n",
    "torch.save(xyz_encoder, \"xyz.pth\")"
   ]
  },
  {
   "cell_type": "code",
   "execution_count": 12,
   "metadata": {},
   "outputs": [
    {
     "data": {
      "text/plain": [
       "NetworkWithInputEncoding(n_input_dims=3, n_output_dims=16, seed=1337, dtype=torch.float16, hyperparams={'encoding': {'base_resolution': 4, 'hash': 'CoherentPrime', 'interpolation': 'Linear', 'log2_hashmap_size': 10, 'n_features_per_level': 2, 'n_levels': 4, 'otype': 'Grid', 'per_level_scale': 1.25, 'type': 'Hash'}, 'network': {'activation': 'ReLU', 'n_hidden_layers': 1, 'n_neurons': 64, 'otype': 'FullyFusedMLP', 'output_activation': 'None'}, 'otype': 'NetworkWithInputEncoding'})"
      ]
     },
     "execution_count": 12,
     "metadata": {},
     "output_type": "execute_result"
    }
   ],
   "source": [
    "torch.load(\"xyz.pth\")"
   ]
  },
  {
   "cell_type": "code",
   "execution_count": 13,
   "metadata": {},
   "outputs": [
    {
     "data": {
      "text/plain": [
       "OrderedDict([('params',\n",
       "              tensor([-1.9296e-01, -1.5868e-02, -1.7857e-01,  ...,  8.1820e-05,\n",
       "                      -7.1032e-05,  8.4406e-05], device='cuda:0'))])"
      ]
     },
     "execution_count": 13,
     "metadata": {},
     "output_type": "execute_result"
    }
   ],
   "source": [
    "torch.load(\"xyz_sd.pth\")"
   ]
  },
  {
   "cell_type": "code",
   "execution_count": 14,
   "metadata": {},
   "outputs": [
    {
     "name": "stdout",
     "output_type": "stream",
     "text": [
      "params\n",
      "torch.Size([0])\n"
     ]
    }
   ],
   "source": [
    "for name, params in encoding.named_parameters():\n",
    "    print(name)\n",
    "    print(params.shape)"
   ]
  },
  {
   "cell_type": "code",
   "execution_count": 15,
   "metadata": {},
   "outputs": [
    {
     "name": "stdout",
     "output_type": "stream",
     "text": [
      "params\n",
      "torch.Size([5120])\n"
     ]
    }
   ],
   "source": [
    "for name, params in network.named_parameters():\n",
    "    print(name)\n",
    "    print(params.shape)"
   ]
  },
  {
   "cell_type": "code",
   "execution_count": 16,
   "metadata": {},
   "outputs": [
    {
     "name": "stdout",
     "output_type": "stream",
     "text": [
      "params\n",
      "torch.Size([4144])\n"
     ]
    }
   ],
   "source": [
    "for name, params in xyz_encoder.named_parameters():\n",
    "    print(name)\n",
    "    print(params.shape)"
   ]
  },
  {
   "cell_type": "code",
   "execution_count": 17,
   "metadata": {},
   "outputs": [
    {
     "data": {
      "text/plain": [
       "Sequential(\n",
       "  (0): Encoding(n_input_dims=3, n_output_dims=60, seed=1337, dtype=torch.float16, hyperparams={'n_frequencies': 10, 'otype': 'Frequency'})\n",
       "  (1): Network(n_input_dims=60, n_output_dims=16, seed=1337, dtype=torch.float16, hyperparams={'encoding': {'offset': 0.0, 'otype': 'Identity', 'scale': 1.0}, 'network': {'activation': 'ReLU', 'n_hidden_layers': 1, 'n_neurons': 64, 'otype': 'FullyFusedMLP', 'output_activation': 'None'}, 'otype': 'NetworkWithInputEncoding'})\n",
       ")"
      ]
     },
     "execution_count": 17,
     "metadata": {},
     "output_type": "execute_result"
    }
   ],
   "source": [
    "xyz_enc = nn.Sequential(encoding, network)\n",
    "xyz_enc"
   ]
  },
  {
   "cell_type": "code",
   "execution_count": 18,
   "metadata": {},
   "outputs": [
    {
     "name": "stdout",
     "output_type": "stream",
     "text": [
      "0.params\n",
      "torch.Size([0])\n",
      "1.params\n",
      "torch.Size([5120])\n"
     ]
    }
   ],
   "source": [
    "for name, params in xyz_enc.named_parameters():\n",
    "    print(name)\n",
    "    print(params.shape)"
   ]
  }
 ],
 "metadata": {
  "kernelspec": {
   "display_name": "nerf",
   "language": "python",
   "name": "python3"
  },
  "language_info": {
   "codemirror_mode": {
    "name": "ipython",
    "version": 3
   },
   "file_extension": ".py",
   "mimetype": "text/x-python",
   "name": "python",
   "nbconvert_exporter": "python",
   "pygments_lexer": "ipython3",
   "version": "3.8.16"
  },
  "orig_nbformat": 4,
  "vscode": {
   "interpreter": {
    "hash": "f158dfe301a0b449c42731357c4701887c7481b342e9491111dc17d21353390b"
   }
  }
 },
 "nbformat": 4,
 "nbformat_minor": 2
}
